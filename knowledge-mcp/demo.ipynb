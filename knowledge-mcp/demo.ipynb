{
 "cells": [
  {
   "cell_type": "markdown",
   "metadata": {},
   "source": [
    "## list tools"
   ]
  },
  {
   "cell_type": "code",
   "execution_count": 8,
   "metadata": {},
   "outputs": [
    {
     "name": "stdout",
     "output_type": "stream",
     "text": [
      "create_knowledge_set\n",
      "list_knowledge_sets\n",
      "delete_knowledge_set\n",
      "ingest_file\n",
      "list_files\n",
      "remove_file\n",
      "query\n"
     ]
    }
   ],
   "source": [
    "import asyncio\n",
    "import json\n",
    "from fastmcp import Client\n",
    "import os\n",
    "import json\n",
    "from fastmcp.client.transports import StreamableHttpTransport\n",
    "\n",
    "PORT = os.getenv(\"PORT\", \"9000\")\n",
    "MCP_PATH = os.getenv(\"MCP_PATH\", \"/mcp/knowledge\")\n",
    "\n",
    "async def example_list_tools():\n",
    "    async with Client(transport=StreamableHttpTransport(\n",
    "        f\"http://127.0.0.1:{PORT}{MCP_PATH}\",\n",
    "        headers={\"x-forwarded-user\": \"123\"},\n",
    "    )) as client:\n",
    "        await client.ping()\n",
    "        \n",
    "        # List available operations\n",
    "        tools = await client.list_tools()\n",
    "        for tool in tools:\n",
    "            print(tool.name)\n",
    "\n",
    "await example_list_tools()"
   ]
  },
  {
   "cell_type": "code",
   "execution_count": null,
   "metadata": {},
   "outputs": [],
   "source": [
    "\n",
    "import asyncio\n",
    "import json\n",
    "from fastmcp import Client\n",
    "import os\n",
    "import json\n",
    "from fastmcp.client.transports import StreamableHttpTransport\n",
    "\n",
    "PORT = os.getenv(\"PORT\", \"9000\")\n",
    "MCP_PATH = os.getenv(\"MCP_PATH\", \"/mcp/knowledge\")\n",
    "\n",
    "async def example_list_tools():\n",
    "    async with Client(transport=StreamableHttpTransport(\n",
    "        f\"http://127.0.0.1:{PORT}{MCP_PATH}\",\n",
    "        headers={\"x-forwarded-user\": \"123\"},\n",
    "    )) as client:\n",
    "        await client.ping()\n",
    "        \n",
    "        # List available operations\n",
    "        tools = await client.list_tools()\n",
    "        for tool in tools:\n",
    "            print(tool.name)\n",
    "\n",
    "await example_list_tools()\n"
   ]
  },
  {
   "cell_type": "code",
   "execution_count": 5,
   "metadata": {},
   "outputs": [],
   "source": [
    "# set the test user id\n",
    "test_user_id = \"test_user\""
   ]
  },
  {
   "cell_type": "markdown",
   "metadata": {},
   "source": [
    "# Management"
   ]
  },
  {
   "cell_type": "markdown",
   "metadata": {},
   "source": [
    "## list knowledge set"
   ]
  },
  {
   "cell_type": "code",
   "execution_count": 6,
   "metadata": {},
   "outputs": [
    {
     "name": "stdout",
     "output_type": "stream",
     "text": [
      "{\n",
      "    \"knowledge_set_id\": \"3a79892f-773b-44ac-97ca-6bc7cfbc4f73\",\n",
      "    \"created_at\": \"2025-07-09T02:20:18.325431Z\"\n",
      "}\n"
     ]
    }
   ],
   "source": [
    "async def example_list_knowledge_sets():\n",
    "    async with Client(transport=StreamableHttpTransport(\n",
    "        f\"http://127.0.0.1:{PORT}{MCP_PATH}\",\n",
    "        headers={\"x-forwarded-user\": test_user_id},\n",
    "        \n",
    "    )) as client:\n",
    "        await client.ping()\n",
    "        tenants = await client.call_tool(\n",
    "            name=\"list_knowledge_sets\",\n",
    "            arguments={},\n",
    "        )\n",
    "        if tenants:\n",
    "            return json.loads(tenants[0].text)\n",
    "        else:\n",
    "            return []\n",
    "\n",
    "\n",
    "list_knowledge_sets = await example_list_knowledge_sets()\n",
    "print(json.dumps(list_knowledge_sets, indent=4))"
   ]
  },
  {
   "cell_type": "markdown",
   "metadata": {},
   "source": [
    "## create knowledge set"
   ]
  },
  {
   "cell_type": "code",
   "execution_count": null,
   "metadata": {},
   "outputs": [],
   "source": [
    "async def example_create_knowledge_set():\n",
    "    async with Client(transport=StreamableHttpTransport(\n",
    "        f\"http://127.0.0.1:{PORT}{MCP_PATH}\",\n",
    "        headers={\"x-forwarded-user\": test_user_id},\n",
    "    )) as client:\n",
    "        await client.ping()\n",
    "        tenants = await client.call_tool(\n",
    "            name=\"create_knowledge_set\",\n",
    "            arguments={\n",
    "            },\n",
    "        )\n",
    "        print(\"created knowledge set\")\n",
    "        print(tenants[0].text)\n",
    "        return json.loads(tenants[0].text)[\"knowledge_set_id\"]\n",
    "\n",
    "knowledge_set_id = await example_create_knowledge_set()"
   ]
  },
  {
   "cell_type": "markdown",
   "metadata": {},
   "source": [
    "## delete knowledge set"
   ]
  },
  {
   "cell_type": "code",
   "execution_count": null,
   "metadata": {},
   "outputs": [],
   "source": [
    "async def example_delete_knowledge_set(knowledge_set_id):\n",
    "    async with Client(transport=StreamableHttpTransport(\n",
    "        f\"http://127.0.0.1:{PORT}{MCP_PATH}\",\n",
    "        headers={\"x-forwarded-user\": test_user_id},\n",
    "    )) as client:\n",
    "        await client.ping()\n",
    "        tenants = await client.call_tool(\n",
    "            name=\"delete_knowledge_set\",\n",
    "            arguments={\n",
    "                \"knowledge_set_id\": knowledge_set_id,\n",
    "            },\n",
    "        )\n",
    "        print(f\"deleted knowledge set {knowledge_set_id}\")\n",
    "        print(tenants[0].text)\n",
    "\n",
    "await example_delete_knowledge_set(knowledge_set_id)"
   ]
  },
  {
   "cell_type": "markdown",
   "metadata": {},
   "source": [
    "# Knowledge Ingest, query, remove\n"
   ]
  },
  {
   "cell_type": "code",
   "execution_count": null,
   "metadata": {},
   "outputs": [],
   "source": [
    "res = await example_list_knowledge_sets()\n",
    "if isinstance(res, list):\n",
    "    test_knowledge_set_id = res[-1][\"knowledge_set_id\"]\n",
    "else:\n",
    "    test_knowledge_set_id = res[\"knowledge_set_id\"]\n",
    "test_knowledge_set_id"
   ]
  },
  {
   "cell_type": "markdown",
   "metadata": {},
   "source": [
    "## list files"
   ]
  },
  {
   "cell_type": "code",
   "execution_count": null,
   "metadata": {},
   "outputs": [],
   "source": [
    "async def example_list_files():\n",
    "    async with Client(transport=StreamableHttpTransport(\n",
    "        f\"http://127.0.0.1:{PORT}{MCP_PATH}\",\n",
    "        headers={\"x-forwarded-user\": test_user_id},\n",
    "    )) as client:\n",
    "        await client.ping()\n",
    "        files = await client.call_tool(\n",
    "            name=\"list_files\",\n",
    "            arguments={\n",
    "                \"knowledge_set_id\": test_knowledge_set_id,\n",
    "            },\n",
    "        )\n",
    "        if files:\n",
    "            return json.loads(files[0].text)\n",
    "        else:\n",
    "            return []\n",
    "\n",
    "await example_list_files()"
   ]
  },
  {
   "cell_type": "markdown",
   "metadata": {},
   "source": [
    "## Ingest file"
   ]
  },
  {
   "cell_type": "code",
   "execution_count": 15,
   "metadata": {},
   "outputs": [],
   "source": [
    "import base64\n",
    "\n",
    "async def example_ingest_file(file_path: str):\n",
    "    async with Client(transport=StreamableHttpTransport(\n",
    "        f\"http://127.0.0.1:{PORT}{MCP_PATH}\",\n",
    "        headers={\"x-forwarded-user\": test_user_id},\n",
    "    )) as client:\n",
    "        await client.ping()\n",
    "        with open(file_path, \"rb\") as f:\n",
    "            content = f.read()\n",
    "        # Encode binary content as base64 string for MCP transport\n",
    "        content_b64 = base64.b64encode(content).decode('utf-8')\n",
    "        files = await client.call_tool(\n",
    "            name=\"ingest_file\",\n",
    "            arguments={\n",
    "                \"knowledge_set_id\": test_knowledge_set_id,\n",
    "                \"filename\": file_path.split(\"/\")[-1],\n",
    "                \"content\": content_b64\n",
    "            },\n",
    "        )\n",
    "        if files:\n",
    "            return json.loads(files[0].text)"
   ]
  },
  {
   "cell_type": "code",
   "execution_count": null,
   "metadata": {},
   "outputs": [],
   "source": [
    "file_id_acorn = await example_ingest_file(\"test_acorn.txt\")\n",
    "file_id_acorn\n"
   ]
  },
  {
   "cell_type": "code",
   "execution_count": null,
   "metadata": {},
   "outputs": [],
   "source": [
    "file_id_fastmcp = await example_ingest_file(\"test_fastmcp.txt\")\n",
    "file_id_fastmcp"
   ]
  },
  {
   "cell_type": "code",
   "execution_count": null,
   "metadata": {},
   "outputs": [],
   "source": [
    "file_id_pdf = await example_ingest_file(\"test_invest.pdf\")\n",
    "file_id_pdf"
   ]
  },
  {
   "cell_type": "markdown",
   "metadata": {},
   "source": [
    "## Remove File"
   ]
  },
  {
   "cell_type": "code",
   "execution_count": 13,
   "metadata": {},
   "outputs": [],
   "source": [
    "async def example_remove_file(file_id: str):\n",
    "    async with Client(transport=StreamableHttpTransport(\n",
    "        f\"http://127.0.0.1:{PORT}{MCP_PATH}\",\n",
    "        headers={\"x-forwarded-user\": test_user_id},\n",
    "    )) as client:\n",
    "        await client.ping()\n",
    "        await client.call_tool(\n",
    "            \n",
    "            name=\"remove_file\",\n",
    "            arguments={\n",
    "                \"knowledge_set_id\": test_knowledge_set_id,\n",
    "                \"file_id\": file_id,\n",
    "            },\n",
    "        )\n",
    "        print(\"file removed\")"
   ]
  },
  {
   "cell_type": "code",
   "execution_count": null,
   "metadata": {},
   "outputs": [],
   "source": [
    "await example_remove_file(file_id_fastmcp[\"file_id\"])\n",
    "await example_remove_file(file_id_acorn[\"file_id\"])"
   ]
  },
  {
   "cell_type": "code",
   "execution_count": null,
   "metadata": {},
   "outputs": [],
   "source": [
    "file_lists = await example_list_files()\n",
    "file_lists"
   ]
  },
  {
   "cell_type": "markdown",
   "metadata": {},
   "source": [
    "## Query"
   ]
  },
  {
   "cell_type": "code",
   "execution_count": 20,
   "metadata": {},
   "outputs": [],
   "source": [
    "async def example_query(query_text: str):\n",
    "    async with Client(transport=StreamableHttpTransport(\n",
    "        f\"http://127.0.0.1:{PORT}{MCP_PATH}\",\n",
    "        headers={\"x-forwarded-user\": test_user_id},\n",
    "    )) as client:\n",
    "        await client.ping()\n",
    "        query_result = await client.call_tool(\n",
    "            name=\"query\",\n",
    "            arguments={\n",
    "                \"query_text\": query_text,\n",
    "                \"knowledge_set_id\": test_knowledge_set_id,\n",
    "            },\n",
    "        )\n",
    "        return json.loads(query_result[0].text)\n"
   ]
  },
  {
   "cell_type": "code",
   "execution_count": null,
   "metadata": {},
   "outputs": [],
   "source": [
    "query_text = \"tell me something about acorn labs?\"\n",
    "res = await example_query(query_text)\n",
    "res"
   ]
  },
  {
   "cell_type": "code",
   "execution_count": null,
   "metadata": {},
   "outputs": [],
   "source": [
    "query_text = \"how does fastmcp work?\"\n",
    "res = await example_query(query_text)\n",
    "res"
   ]
  },
  {
   "cell_type": "code",
   "execution_count": null,
   "metadata": {},
   "outputs": [],
   "source": [
    "query_text = \"tell me something about the invest strategy?\"\n",
    "res = await example_query(query_text)\n",
    "res"
   ]
  }
 ],
 "metadata": {
  "kernelspec": {
   "display_name": ".venv",
   "language": "python",
   "name": "python3"
  },
  "language_info": {
   "codemirror_mode": {
    "name": "ipython",
    "version": 3
   },
   "file_extension": ".py",
   "mimetype": "text/x-python",
   "name": "python",
   "nbconvert_exporter": "python",
   "pygments_lexer": "ipython3",
   "version": "3.13.3"
  }
 },
 "nbformat": 4,
 "nbformat_minor": 2
}
